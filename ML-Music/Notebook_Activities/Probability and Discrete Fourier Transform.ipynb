{
 "cells": [
  {
   "cell_type": "markdown",
   "metadata": {},
   "source": [
    "#### Student Name:\n",
    "#### Student ID:\n"
   ]
  },
  {
   "cell_type": "markdown",
   "metadata": {},
   "source": [
    "# Assignment 1\n",
    "\n",
    "### Probability (Mozart Dice Game), Fourier Transforms (Find Frequency)"
   ]
  },
  {
   "cell_type": "markdown",
   "metadata": {},
   "source": [
    "Instructions: \n",
    "\n",
    "This notebook is an interactive assignment; please read and follow the instructions in each cell.\n",
    "\n",
    "Assignments are to be completed individually.\n",
    "\n",
    "Cells that require your input (in the form of code or written response) will have 'Question #' above.\n",
    "\n",
    "After completing the assignment, please submit this notebook as a PDF and your Mozart Dice Game MIDI.\n",
    "\n",
    "Make sure to mark the page with your solution for each problem on Gradescope. Any problems without the correct pages marked may receive a score of 0. "
   ]
  },
  {
   "cell_type": "markdown",
   "metadata": {},
   "source": [
    "Mozart Dice Game\n",
    "--------------"
   ]
  },
  {
   "cell_type": "markdown",
   "metadata": {},
   "source": [
    "For this section of the assignment, you will implement the Mozart Dice Game using MIDI. \n",
    "\n",
    "Your composition will be a 16-measure minuet using 'dice rolls' (random generation in Python). \n",
    "\n",
    "Please check out the interactive demo available here (http://www.playonlinedicegames.com/mozart). \n",
    "\n",
    "Please see the code in the cell below for an example of combining MIDI files together (since you will be combining musical cells to create your Mozart Dice Game composition). You may want to install MIT's music21 python library (http://web.mit.edu/music21/) using pip. If you would rather combine MIDI files with another method, feel free to explore. \n",
    "\n",
    "The MIDI files, created by Packard Humanities Institute's Center for Computer Assisted Research in the Humanities at Stanford University, can be found in a .zip archive in the assignment repository. \n",
    "\n",
    "The code cell below also contains the filenames of candidate phrases for each of the 16 measures of your Mozart Dice Menuet (A1-B8). Using a random 'dice roll,' you will select one of the candidates for that measure of your minuet. The final product is the stitched-together combination of all 16 measures, selected via dice roll. \n",
    "\n",
    "Please save a .midi file of your randomly generated minuet to submit to Gradescope."
   ]
  },
  {
   "cell_type": "code",
   "execution_count": null,
   "metadata": {},
   "outputs": [],
   "source": [
    "from music21 import midi as midi21\n",
    "from music21 import stream\n",
    "import copy\n",
    "import music21\n",
    "import soundfile as sf\n",
    "from __future__ import  division\n",
    "import numpy as np\n",
    "import matplotlib.pyplot as plt\n",
    "from scipy.io import wavfile\n",
    "import scipy\n",
    "from scipy import signal\n",
    "import librosa\n",
    "%matplotlib inline\n",
    "import IPython.display as ipydisplay\n",
    "from IPython.display import Audio, display\n",
    "\n",
    "def play(x):\n",
    "    \"\"\"Returns nothing. Outputs a midi realization of x, a note or stream.\n",
    "    Primarily for use in notebooks and web environments.\n",
    "    \"\"\"  \n",
    "    if isinstance(x, stream.Stream):\n",
    "        x = copy.deepcopy(x)\n",
    "        for subStream in x.recurse(streamsOnly=True, includeSelf=True):\n",
    "            mss = subStream.getElementsByClass(stream.Measure)\n",
    "            for ms in mss:\n",
    "                ms.offset += 1.0\n",
    "    if isinstance(x, music21.note.Note):\n",
    "        s = stream.Stream()\n",
    "        s.append(music21.note.Rest(1))\n",
    "        s.append(x)\n",
    "        x = s\n",
    "    x.show('midi')\n",
    "\n",
    "mf1 = midi21.MidiFile()\n",
    "mf1.open(\"mozartdicegame/cda001.mid\")\n",
    "mf1.read()\n",
    "mf1.close()\n",
    "s1 = midi21.translate.midiFileToStream(mf1)\n",
    "\n",
    "mf2 = midi21.MidiFile()\n",
    "mf2.open(\"mozartdicegame/cda002.mid\")\n",
    "mf2.read()\n",
    "mf2.close()\n",
    "s2 = midi21.translate.midiFileToStream(mf2)\n",
    "\n",
    "myStream = stream.Stream()\n",
    "myStream.append(s1)\n",
    "myStream.append(s2)\n",
    "myStream.makeMeasures(inPlace = True)\n",
    "play(myStream)\n",
    "myStream.write('midi', fp='combined_midi.mid')\n",
    "\n",
    "\n",
    "A1 = \"070 010 033 036 105 165 007 142 099 085 145\"\n",
    "A2 = \"014 064 001 114 150 152 081 106 068 045 097\"\n",
    "A3 = \"164 100 160 008 057 112 131 040 086 090 006\"\n",
    "A4 = \"122 012 163 035 071 015 037 069 139 158 121\"\n",
    "A5 = \"025 149 077 111 117 147 021 043 120 082 056\"\n",
    "A6 = \"153 030 156 039 052 027 125 140 092 123 067\"\n",
    "A7 = \"018 161 168 137 132 073 049 023 143 078 063\" \n",
    "A8 = \"167 011 172 044 130 102 115 089 083 058 016\"\n",
    "\n",
    "B1 = \"155 148 022 004 136 144 116 066 093 061 050\"\n",
    "B2 = \"003 028 176 157 091 104 133 124 055 034 079\" \n",
    "B3 = \"162 135 062 038 138 087 072 026 029 119 175\" \n",
    "B4 = \"170 173 126 009 019 107 141 084 051 046 076\" \n",
    "B5 = \"013 169 031 151 134 128 094 075 042 059 113\" \n",
    "B6 = \"166 174 024 032 101 048 080 103 110 054 088\" \n",
    "B7 = \"095 002 159 017 154 109 129 096 108 060 053\" \n",
    "B8 = \"005 020 041 171 146 074 065 127 098 047 118\" \n"
   ]
  },
  {
   "cell_type": "markdown",
   "metadata": {},
   "source": [
    "##### Question 1 (Including Output MIDI) [30 points]"
   ]
  },
  {
   "cell_type": "code",
   "execution_count": null,
   "metadata": {},
   "outputs": [],
   "source": [
    "### Your Mozart Dice Game implementation here:\n",
    "\n",
    "\n"
   ]
  },
  {
   "cell_type": "markdown",
   "metadata": {},
   "source": [
    "Fourier Transform\n",
    "--------------\n",
    "\n",
    "The Discrete Fourier Transform (DFT) is the primary analysis tool for digital signal processing. By using matrix/vector representation, the DFT can be understood as a transformation of digital signals into a new vector space.\n",
    "\n",
    "In this space  the columns of the DFT are the basis vectors. One important idea is that we call these vectors as \"frequencies\", but mathematically they simply represent the original data in a different space.\n",
    "\n",
    "This is the mathematical definition of DFT matrix\n",
    "\n",
    "$$ \\mathbf{U} = \\frac{1}{\\sqrt N} \\left[ \\exp \\left( j \\frac{2\\pi}{N} n k \\right) \\right]_{n\\in\\{0,N_s-1\\},k\\in\\{0,N-1\\}} $$\n",
    "\n",
    "\n",
    "where $n$ counts the samples as rows and $k$ indexes the discrete frequencies (which are our new basis) as columns. "
   ]
  },
  {
   "cell_type": "markdown",
   "metadata": {},
   "source": [
    "##### Question 2 [30 points]"
   ]
  },
  {
   "cell_type": "code",
   "execution_count": null,
   "metadata": {},
   "outputs": [],
   "source": [
    "def dftmatrix(Nfft=32,N=None):\n",
    "    'construct DFT matrix'\n",
    "    k= np.arange(Nfft)\n",
    "    if N is None: N = Nfft\n",
    "    n = np.arange(N)\n",
    "    \n",
    "    ### Implement the DFT matrix (U) here\n",
    "\n",
    "    \n",
    "    return U/np.sqrt(Nfft)\n",
    "\n",
    "Nfft=8\n",
    "Ns=8\n",
    "U = dftmatrix(Nfft=Nfft,N=Ns)"
   ]
  },
  {
   "cell_type": "markdown",
   "metadata": {},
   "source": [
    "We can plot these basis as pairs of real and imaginary vectors"
   ]
  },
  {
   "cell_type": "code",
   "execution_count": null,
   "metadata": {},
   "outputs": [],
   "source": [
    "plt.rcParams['figure.figsize'] = (20, 16)\n",
    "\n",
    "# plots in the left column\n",
    "plt.subplot(Nfft,2,1)\n",
    "plt.title('Real Part',fontsize=24)\n",
    "\n",
    "for i in range(Nfft):\n",
    "    plt.subplot(Nfft,2,2*i+1)\n",
    "    plt.xticks([]);  plt.yticks([])\n",
    "    plt.ylabel(r'$\\Omega_{%d}=%d\\times\\frac{2\\pi}{8}$'%(i,i),fontsize=24, \n",
    "        rotation='horizontal',horizontalalignment='right')\n",
    "    plt.plot(np.array(U.real[:,i]),'-o')\n",
    "    plt.axis(ymax=4/Nfft*1.1,ymin=-4/Nfft*1.1)\n",
    "plt.xticks(np.arange(Nfft))\n",
    "plt.xlabel('n')\n",
    "\n",
    "# plots in the  right column\n",
    "plt.subplot(Nfft,2,2)\n",
    "plt.title('Imaginary Part',fontsize=24)\n",
    "\n",
    "for i in range(Nfft):\n",
    "    ax=plt.subplot(Nfft,2,2*(i+1))\n",
    "    plt.xticks([]);  plt.yticks([])\n",
    "    plt.plot(np.array(U.imag[:,i]),'--o')\n",
    "    plt.axis(ymax=4/Nfft*1.1,ymin=-4/Nfft*1.1)    \n",
    "plt.xticks(np.arange(Nfft))\n",
    "plt.xlabel('n')"
   ]
  },
  {
   "cell_type": "markdown",
   "metadata": {},
   "source": [
    "##### Question 3 [10 points]\n",
    "\n",
    "What do you observe in the above plots, considering symmetries and the relationship between real & imaginary parts?"
   ]
  },
  {
   "cell_type": "markdown",
   "metadata": {},
   "source": [
    "``Your response here``"
   ]
  },
  {
   "cell_type": "markdown",
   "metadata": {},
   "source": [
    "Computing the DFT\n",
    "--------------------\n",
    "\n",
    "To compute the DFT using the matrix, we calculate the following,\n",
    "\n",
    "$$ \\mathbf{X} = \\mathbf{U}^H \\mathbf{x}$$\n",
    "\n",
    "which individually takes each of the columns of $\\mathbf{U}$ and computes the inner product as the $i^{th}$ entry,\n",
    "\n",
    "$$ \\mathbf{X}_i = \\mathbf{U}_i^H \\mathbf{x}$$\n",
    "\n",
    "That is, we are measuring the *degree of similarity* between each column of $\\mathbf{U}$ and the input vector. We can think of this as the coefficient of the projection of $\\mathbf{x}$ onto  $\\mathbf{u}_i$.\n",
    "\n",
    "We can retrieve the original input from the DFT by calculating\n",
    "\n",
    "$$ \\mathbf{x} = \\mathbf{U} \\mathbf{X} $$"
   ]
  },
  {
   "cell_type": "markdown",
   "metadata": {},
   "source": [
    "### Example: finding a frequency of a signal"
   ]
  },
  {
   "cell_type": "code",
   "execution_count": null,
   "metadata": {},
   "outputs": [],
   "source": [
    "plt.rcParams['figure.figsize'] = (8, 4)\n",
    "\n",
    "Ns = 70\n",
    "freq = 5.5/Ns\n",
    "t = np.arange(Ns)\n",
    "x = np.sin(2*np.pi*freq*t)\n",
    "plt.plot(x)\n",
    "plt.show()"
   ]
  },
  {
   "cell_type": "markdown",
   "metadata": {},
   "source": [
    "##### Question 4 [20 points]"
   ]
  },
  {
   "cell_type": "code",
   "execution_count": null,
   "metadata": {},
   "outputs": [],
   "source": [
    "Nfft = Ns\n",
    "U = dftmatrix(Nfft=Nfft,N=Ns)\n",
    "x = np.matrix(x)\n",
    "\n",
    "### Compute X, the DFT of signal x\n",
    "\n",
    "\n",
    "\n",
    "plt.stem(np.array(abs(X)))\n",
    "plt.show()"
   ]
  },
  {
   "cell_type": "markdown",
   "metadata": {},
   "source": [
    "##### Question 5 [10 points]\n",
    "\n",
    "Where do you observe peaks in the DFT plot? How would you describe the DFT plot symmetry? "
   ]
  },
  {
   "cell_type": "markdown",
   "metadata": {},
   "source": [
    "``Your response here``"
   ]
  }
 ],
 "metadata": {
  "kernelspec": {
   "display_name": "Python 3 (ipykernel)",
   "language": "python",
   "name": "python3"
  },
  "language_info": {
   "codemirror_mode": {
    "name": "ipython",
    "version": 3
   },
   "file_extension": ".py",
   "mimetype": "text/x-python",
   "name": "python",
   "nbconvert_exporter": "python",
   "pygments_lexer": "ipython3",
   "version": "3.10.9"
  }
 },
 "nbformat": 4,
 "nbformat_minor": 4
}
