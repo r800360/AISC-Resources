{
 "cells": [
  {
   "cell_type": "markdown",
   "metadata": {},
   "source": [
    "#### Student Name:\n",
    "#### Student ID:"
   ]
  },
  {
   "cell_type": "markdown",
   "metadata": {},
   "source": [
    "# Assignment 9\n",
    "\n",
    "### GAN, chroma (MIDI) and pix2pix\n",
    "\n",
    "Instructions: \n",
    "\n",
    "* This notebook is an interactive assignment; please read and follow the instructions in each cell. \n",
    "\n",
    "* Cells that require your input (in the form of code or written response) will have 'Question #' above.\n",
    "\n",
    "* After completing the assignment, please submit this notebook and printout as a PDF.\n"
   ]
  },
  {
   "cell_type": "markdown",
   "metadata": {},
   "source": [
    "In this notebook we explore a style transfer application that tries to change the musical texture of a piece while maintaining the harmonic structure. In order to do so we train a pix2pix type of model that learns the relations between chroma and the musical texture (distribution of notes). For this purpose we extract chroma from MIDI data and learn a generator that complements the notes from a given texture. You can think about this as something similar to pix2pix that learns completion of image textures from a sketch that was mentioned in class. In the image GAN the contours for training are generated using an edge detection on a complete image."
   ]
  },
  {
   "cell_type": "markdown",
   "metadata": {
    "id": "vXqiXvjmGkVv"
   },
   "source": [
    "# 1. Imports and Loading Data\n",
    "Before running, please make sure to upload the following to your python directory\n",
    "- reverse_pianoroll.py\n",
    "- convert.py\n",
    "- Classical_Music_Midi.zip and unzip it"
   ]
  },
  {
   "cell_type": "code",
   "execution_count": 1,
   "metadata": {
    "id": "zR2xjd5_8g2N"
   },
   "outputs": [],
   "source": [
    "import pretty_midi\n",
    "import reverse_pianoroll\n",
    "import convert\n",
    "import librosa"
   ]
  },
  {
   "cell_type": "code",
   "execution_count": 2,
   "metadata": {
    "id": "LNiQvohD8g25"
   },
   "outputs": [],
   "source": [
    "import numpy as np\n",
    "import sys"
   ]
  },
  {
   "cell_type": "code",
   "execution_count": 20,
   "metadata": {
    "id": "SWV1ONBqEj1t"
   },
   "outputs": [],
   "source": [
    "#all necessary imports: use pip install [library name] to add to environment\n",
    "#this notebook was run in 2019 with tensorflow version 1.15. some functions may or may not work with tensorflow > 2.0\n",
    "\n",
    "import tensorflow as tf\n",
    "import numpy as np\n",
    "import matplotlib.pyplot as plt\n",
    "import matplotlib.gridspec as gridspec\n",
    "import os\n",
    "from os import listdir\n",
    "import glob"
   ]
  },
  {
   "cell_type": "code",
   "execution_count": 4,
   "metadata": {
    "id": "t0MVvlIeEj1v"
   },
   "outputs": [],
   "source": [
    "#add songs to data\n",
    "def get_songs(path):\n",
    "    files = glob.glob('{}/*.mid*'.format(path))\n",
    "    songs = []\n",
    "    for f in files:\n",
    "        try:\n",
    "            data = pretty_midi.PrettyMIDI(f)\n",
    "            song = data.get_piano_roll(fs=16)\n",
    "            song = convert.forward(song)\n",
    "            # song = np.transpose(song) #if your code matrices aren't working, try uncommenting this. the convert.py file might not be updated\n",
    "            songs.append(song)\n",
    "        except Exception as e:\n",
    "            raise e           \n",
    "    return songs"
   ]
  },
  {
   "cell_type": "code",
   "execution_count": 5,
   "metadata": {
    "id": "4MYRJza_Ej1v"
   },
   "outputs": [],
   "source": [
    "#custom function to extract chroma features from song\n",
    "def get_chromas(songs):\n",
    "    chromas = []\n",
    "    for song in songs: \n",
    "        chroma = np.zeros(shape=(np.shape(song)[0], 12))\n",
    "        for i in np.arange(np.shape(song)[0]): \n",
    "            for j in np.arange(78):\n",
    "                if song[i][j] > 0:\n",
    "                    chroma[i][np.mod(j,12)] += 1\n",
    "        #print(np.shape(chroma))\n",
    "        chromas.append(chroma)\n",
    "                \n",
    "    return chromas"
   ]
  },
  {
   "cell_type": "code",
   "execution_count": 6,
   "metadata": {
    "id": "8iihxLXwEj1w"
   },
   "outputs": [
    {
     "name": "stdout",
     "output_type": "stream",
     "text": [
      "21 songs processed\n",
      "21 chromas processed\n"
     ]
    }
   ],
   "source": [
    "songs = get_songs('./chordgan/Classical_Music_Midi/mozart')\n",
    "chromas = get_chromas(songs)\n",
    "print (\"{} songs processed\".format(len(songs)))\n",
    "print (\"{} chromas processed\".format(len(chromas)))"
   ]
  },
  {
   "cell_type": "markdown",
   "metadata": {},
   "source": [
    "#### Exploring the song and chroma representations\n",
    "\n",
    "Looking at a random song segment"
   ]
  },
  {
   "cell_type": "code",
   "execution_count": 8,
   "metadata": {},
   "outputs": [
    {
     "data": {
      "text/plain": [
       "(3809, 156)"
      ]
     },
     "execution_count": 8,
     "metadata": {},
     "output_type": "execute_result"
    }
   ],
   "source": [
    "song = songs[0]\n",
    "np.shape(song)"
   ]
  },
  {
   "cell_type": "code",
   "execution_count": 9,
   "metadata": {},
   "outputs": [
    {
     "data": {
      "text/plain": [
       "<matplotlib.image.AxesImage at 0x10b6c4470>"
      ]
     },
     "execution_count": 9,
     "metadata": {},
     "output_type": "execute_result"
    },
    {
     "data": {
      "image/png": "[encoded data removed]",
      "text/plain": [
       "<Figure size 1440x720 with 1 Axes>"
      ]
     },
     "metadata": {
      "needs_background": "light"
     },
     "output_type": "display_data"
    }
   ],
   "source": [
    "plt.figure(figsize = (20,10))\n",
    "plt.imshow(100*song[:100,:].T)"
   ]
  },
  {
   "cell_type": "code",
   "execution_count": 10,
   "metadata": {},
   "outputs": [
    {
     "data": {
      "text/plain": [
       "(3809, 12)"
      ]
     },
     "execution_count": 10,
     "metadata": {},
     "output_type": "execute_result"
    }
   ],
   "source": [
    "chroma = chromas[0]\n",
    "np.shape(chroma)"
   ]
  },
  {
   "cell_type": "code",
   "execution_count": 11,
   "metadata": {},
   "outputs": [
    {
     "data": {
      "text/plain": [
       "<matplotlib.image.AxesImage at 0x18880e6d8>"
      ]
     },
     "execution_count": 11,
     "metadata": {},
     "output_type": "execute_result"
    },
    {
     "data": {
      "image/png": "[encoded data removed]",
      "text/plain": [
       "<Figure size 1440x720 with 1 Axes>"
      ]
     },
     "metadata": {
      "needs_background": "light"
     },
     "output_type": "display_data"
    }
   ],
   "source": [
    "plt.figure(figsize = (20,10))\n",
    "plt.imshow(100*chroma[:100,:].T)"
   ]
  },
  {
   "cell_type": "markdown",
   "metadata": {},
   "source": [
    "##### Question 1 [10 points]\n",
    "Describe what the chromas function does. In your answer refer to musical terms of note names and octave numbers. How does that resemble or differ from the chroma feature that is computed for audio spectrum? Use the figures to demonstrate the explanation.\n",
    "\n",
    "Hint: Refresh the musical terms by looking at Slides 1 and consider what type of music anaylsis the audio chroma is used for. If you are interested more in musical theory you may also consider the concepts of \"pitch class\" and \"music set theory\" that are explained in https://en.wikipedia.org/wiki/Musical_note and https://en.wikipedia.org/wiki/Set_theory_%28music%29"
   ]
  },
  {
   "cell_type": "markdown",
   "metadata": {},
   "source": [
    "``` your response here```"
   ]
  },
  {
   "cell_type": "markdown",
   "metadata": {
    "id": "lIhhTSj6GtvT"
   },
   "source": [
    "# 2. Setting Up GAN Model"
   ]
  },
  {
   "cell_type": "code",
   "execution_count": 12,
   "metadata": {
    "colab": {
     "base_uri": "https://localhost:8080/"
    },
    "id": "aIaKKrWmEj1w",
    "outputId": "5bd4c581-204f-4706-a2a6-c9edfde2e467"
   },
   "outputs": [
    {
     "name": "stdout",
     "output_type": "stream",
     "text": [
      "624 48\n"
     ]
    }
   ],
   "source": [
    "lowest_note = 0 #the index of the lowest note on the piano roll\n",
    "highest_note = 78 #the index of the highest note on the piano roll\n",
    "note_range = highest_note-lowest_note #the note range\n",
    "\n",
    "num_timesteps  = 4 #This is the number of timesteps that we will create at a time\n",
    "X_dim = 2*note_range*num_timesteps #This is the size of the visible layer. \n",
    "Z_dim = 12*num_timesteps\n",
    "n_hidden = 50 #This is the size of the hidden layer\n",
    "\n",
    "print(X_dim,Z_dim)"
   ]
  },
  {
   "cell_type": "markdown",
   "metadata": {},
   "source": [
    "##### Question 2 [10 points]\n",
    "\n",
    "Explain what aspects of music (pitch, rhythm, note duration) are captured by the latent random Z? In your answer refer to the representaiton of the song data. Note how song matrix differs from standard pianoroll."
   ]
  },
  {
   "cell_type": "markdown",
   "metadata": {},
   "source": [
    "``` your response here```"
   ]
  },
  {
   "cell_type": "code",
   "execution_count": 13,
   "metadata": {
    "id": "uDpINNjpEj1x"
   },
   "outputs": [],
   "source": [
    "def xavier_init(size):\n",
    "    in_dim = size[0]\n",
    "    xavier_stddev = 1. / tf.sqrt(in_dim / 2.)\n",
    "    return tf.random_normal(shape=size, stddev=xavier_stddev)"
   ]
  },
  {
   "cell_type": "code",
   "execution_count": 15,
   "metadata": {
    "id": "24NXtz5IEj1x"
   },
   "outputs": [],
   "source": [
    "#setting up model, discriminator weights and biases\n",
    "X = tf.placeholder(tf.float32, shape=[None, X_dim])\n",
    "\n",
    "\n",
    "D_W1 = tf.Variable(xavier_init([X_dim+Z_dim, 512]))\n",
    "D_b1 = tf.Variable(tf.zeros(shape=[512]))\n",
    "\n",
    "D_W2 = tf.Variable(xavier_init([512, 1]))\n",
    "D_b2 = tf.Variable(tf.zeros(shape=[1]))\n",
    "\n",
    "theta_D = [D_W1, D_W2, D_b1, D_b2]"
   ]
  },
  {
   "cell_type": "code",
   "execution_count": 16,
   "metadata": {
    "id": "LRLHyW-CEj1x"
   },
   "outputs": [],
   "source": [
    "#setting up model, generator weights and biases\n",
    "\n",
    "#z is the space we're generating from\n",
    "Z = tf.placeholder(tf.float32, shape=[None, Z_dim])\n",
    "\n",
    "G_W1 = tf.Variable(xavier_init([Z_dim, 128]))\n",
    "G_b1 = tf.Variable(tf.zeros(shape=[128]))\n",
    "\n",
    "G_W2 = tf.Variable(xavier_init([128, X_dim]))\n",
    "G_b2 = tf.Variable(tf.zeros(shape=[X_dim]))\n",
    "\n",
    "theta_G = [G_W1, G_W2, G_b1, G_b2]"
   ]
  },
  {
   "cell_type": "code",
   "execution_count": 17,
   "metadata": {
    "id": "mIjKz4MwEj1x"
   },
   "outputs": [],
   "source": [
    "def generator(z):\n",
    "    G_h1 = tf.nn.relu(tf.matmul(z, G_W1) + G_b1)\n",
    "    G_log_prob = tf.matmul(G_h1, G_W2) + G_b2\n",
    "    G_prob = tf.nn.sigmoid(G_log_prob)\n",
    "\n",
    "    return G_prob"
   ]
  },
  {
   "cell_type": "code",
   "execution_count": 18,
   "metadata": {
    "id": "bWImNLv-Ej1y"
   },
   "outputs": [],
   "source": [
    "def discriminator(x,c):\n",
    "    D_h1 = tf.nn.relu(tf.matmul(tf.concat([x,c],1), D_W1) + D_b1)\n",
    "    D_logit = tf.matmul(D_h1, D_W2) + D_b2\n",
    "    D_prob = tf.nn.sigmoid(D_logit)\n",
    "\n",
    "    return D_prob, D_logit"
   ]
  },
  {
   "cell_type": "code",
   "execution_count": 19,
   "metadata": {
    "id": "tI8yFjDWEj1y"
   },
   "outputs": [],
   "source": [
    "def plot(samples):\n",
    "    fig = plt.figure(figsize=(4, 4))\n",
    "    gs = gridspec.GridSpec(4, 4)\n",
    "    gs.update(wspace=0.05, hspace=0.05)\n",
    "\n",
    "    for i, sample in enumerate(samples):\n",
    "        ax = plt.subplot(gs[i])\n",
    "        plt.axis('off')\n",
    "        ax.set_xticklabels([])\n",
    "        ax.set_yticklabels([])\n",
    "        ax.set_aspect('equal')\n",
    "\n",
    "        plt.imshow(sample.reshape(78, 30), cmap='Greys_r')\n",
    "\n",
    "\n",
    "    return fig"
   ]
  },
  {
   "cell_type": "code",
   "execution_count": 21,
   "metadata": {
    "id": "P8CrxuCaEj1z"
   },
   "outputs": [],
   "source": [
    "G_sample = generator(Z)"
   ]
  },
  {
   "cell_type": "code",
   "execution_count": 22,
   "metadata": {
    "id": "kjJ7f5I-Ej10"
   },
   "outputs": [],
   "source": [
    "D_real, D_logit_real = discriminator(X,Z)"
   ]
  },
  {
   "cell_type": "code",
   "execution_count": 23,
   "metadata": {
    "id": "n8992jJOEj10"
   },
   "outputs": [],
   "source": [
    "D_fake, D_logit_fake = discriminator(G_sample,Z)"
   ]
  },
  {
   "cell_type": "markdown",
   "metadata": {},
   "source": [
    "##### Question 3 [10 points]\n",
    "In standard GAN, the discriminator receives as input true or fake (generated) data only. Explain why in our case the disrciminator receives as input both the data and an additional variable Z? How this Z differs from the usual GAN input of a random vector?"
   ]
  },
  {
   "cell_type": "markdown",
   "metadata": {},
   "source": [
    "``` your response here```"
   ]
  },
  {
   "cell_type": "code",
   "execution_count": 25,
   "metadata": {
    "id": "tcYoVloPEj10"
   },
   "outputs": [],
   "source": [
    "\n",
    "# Alternative losses:\n",
    "# -------------------\n",
    "Lambda = 100\n",
    "D_loss_real = tf.reduce_mean(tf.nn.sigmoid_cross_entropy_with_logits(logits=D_logit_real, labels=tf.ones_like(D_logit_real)))\n",
    "D_loss_fake = tf.reduce_mean(tf.nn.sigmoid_cross_entropy_with_logits(logits=D_logit_fake, labels=tf.zeros_like(D_logit_fake)))\n",
    "D_loss = D_loss_real + D_loss_fake\n",
    "G_loss_fake = tf.reduce_mean(tf.nn.sigmoid_cross_entropy_with_logits(logits=D_logit_fake, labels=tf.ones_like(D_logit_fake)))\n",
    "G_loss_L1 = tf.reduce_mean(tf.losses.mean_squared_error(X,G_sample))\n",
    "G_loss = G_loss_fake + Lambda*G_loss_L1"
   ]
  },
  {
   "cell_type": "markdown",
   "metadata": {},
   "source": [
    "##### Question 4 [10 points]\n",
    "Explain the two components of the discriminator loss in the D_loss expression. Why the real loss uses tf.ones_like andthe fake loss uses tf.zeros_like in the cross entory loss? What are the statistical distributions (which datasets are used) in computational of the real and fake losses. In your answers you may either include an equation image or write the loss equaiton in latex mathamtical notation inside Markdown cell."
   ]
  },
  {
   "cell_type": "markdown",
   "metadata": {},
   "source": [
    "``` your response here ```"
   ]
  },
  {
   "cell_type": "markdown",
   "metadata": {},
   "source": [
    "##### Question 5 [10 points]\n",
    "In the generator loss G_loss we add an L1 loss. What does it represent? Why do you think we might want to add the L1 loss to the GAN model? We will explore this question further down the assignment, so at this point write down your best explanation based on the equations themselves without running any experiments."
   ]
  },
  {
   "cell_type": "markdown",
   "metadata": {},
   "source": [
    "``` your response here ```"
   ]
  },
  {
   "cell_type": "code",
   "execution_count": 26,
   "metadata": {
    "id": "Oc9zTKiEEj11"
   },
   "outputs": [],
   "source": [
    "#optimizing functions\n",
    "D_solver = tf.train.AdamOptimizer().minimize(D_loss, var_list=theta_D)\n",
    "G_solver = tf.train.AdamOptimizer().minimize(G_loss, var_list=theta_G)"
   ]
  },
  {
   "cell_type": "code",
   "execution_count": 27,
   "metadata": {
    "id": "V_yjcm__Ej11"
   },
   "outputs": [],
   "source": [
    "#output midi file folder\n",
    "if not os.path.exists('out/'):\n",
    "    os.makedirs('out/')"
   ]
  },
  {
   "cell_type": "code",
   "execution_count": 29,
   "metadata": {
    "id": "wMfONb8gEj11"
   },
   "outputs": [],
   "source": [
    "sess = tf.Session()\n",
    "sess.run(tf.global_variables_initializer())"
   ]
  },
  {
   "cell_type": "markdown",
   "metadata": {
    "id": "AI2HBr6YGzkM"
   },
   "source": [
    "# 3. Training GAN Model"
   ]
  },
  {
   "cell_type": "code",
   "execution_count": 31,
   "metadata": {
    "id": "FZBAHllDEj11",
    "scrolled": false
   },
   "outputs": [],
   "source": [
    "i = 0\n",
    "num_epochs = 200000\n",
    "batch_size = 100\n",
    "S_cutoff = 0.5\n",
    "#commented out print statements output different losses, and plotting functions plot the piano roll and chroma.\n",
    "while i <= num_epochs:\n",
    "    for song, chroma in zip(songs, chromas):      \n",
    "        # The songs are stored in a time x notes format. The size of each song is timesteps_in_song x 2*note_range\n",
    "        # Here we reshape the songs so that each training example is a vector with num_timesteps x 2*note_range elements    \n",
    "        song = np.array(song)     \n",
    "        #print(np.shape(song))  \n",
    "        song_steps = np.floor(song.shape[0]/num_timesteps).astype(int)\n",
    "        song = song[:song_steps*num_timesteps]\n",
    "        song = np.reshape(song, [song_steps, song.shape[1]*num_timesteps])  \n",
    "        chroma = np.array(chroma)\n",
    "        #print(np.shape(chroma)\n",
    "        chroma = chroma[:song_steps*num_timesteps]\n",
    "        chroma = np.reshape(chroma, [song_steps, chroma.shape[1]*num_timesteps])                \n",
    "        batch_size = min(batch_size,len(song))\n",
    "        # Train the RBM on batch_size examples at a time\n",
    "        for ind in range(0, len(song), batch_size):       \n",
    "            X_mb = song[ind:ind+batch_size]\n",
    "            ch = chroma[ind:ind+batch_size]\n",
    "#            _, loss = sess.run([solver, vae_loss], feed_dict={X: X_mb})\n",
    "            _, D_loss_curr = sess.run([D_solver, D_loss], feed_dict={X: X_mb, Z: ch})\n",
    "            _, G_loss_curr = sess.run([G_solver, G_loss], feed_dict={X: X_mb, Z: ch})\n",
    "    \n",
    "            if i % 1000 == 0:\n",
    "                # print('Iter: {}'.format(i))\n",
    "                dloss = ('D_Loss: {:.4}'. format(D_loss_curr))\n",
    "                gloss = ('G_Loss: {:.4}'. format(G_loss_curr))\n",
    "                print(dloss)\n",
    "                print(gloss)\n",
    "                \n",
    "#             samples = sess.run(X_samples, feed_dict={z: np.random.randn(1,z_dim)})\n",
    "\n",
    "                samples = sess.run(G_sample, feed_dict={Z: ch})\n",
    "        \n",
    "                S = np.reshape(samples, (ch.shape[0]*num_timesteps, 2*note_range))\n",
    "                thresh_S = S>=S_cutoff\n",
    "\n",
    "                thresh_S = np.transpose(thresh_S)\n",
    "\n",
    "\n",
    "                C = np.reshape(ch, (ch.shape[0]*num_timesteps, 12))\n",
    "\n",
    "                test = reverse_pianoroll.piano_roll_to_pretty_midi(convert.back(thresh_S), fs=16)\n",
    "                test.write('out/{}.mid'.format(i))\n",
    "\n",
    "            i += 1"
   ]
  },
  {
   "cell_type": "markdown",
   "metadata": {},
   "source": []
  },
  {
   "cell_type": "markdown",
   "metadata": {
    "id": "m9svDngpHzty"
   },
   "source": [
    "# 4. Style Transfer with a New Genre Dataset"
   ]
  },
  {
   "cell_type": "markdown",
   "metadata": {},
   "source": [
    "In this part we will explore using the trained GAN to compose new music according to the harmonic structure of another musical input. In a way this comprises of a style transfer between the input music that belongs to style A and the output music that is generated using GAN trained on style B. In the example we will used J.S.Bach as our input (Style A) and output music in Mozart's style that was use to train our GAN (Style B). The new Mozart piece should follow the harmonic structure (chord progressions) of the Bach input."
   ]
  },
  {
   "cell_type": "code",
   "execution_count": 36,
   "metadata": {
    "id": "SSzNXQleEj13"
   },
   "outputs": [
    {
     "name": "stdout",
     "output_type": "stream",
     "text": [
      "3 songs processed\n",
      "3 songs processed\n"
     ]
    }
   ],
   "source": [
    "#for testing, we will be using a different composer dataset to input into the generator here.\n",
    "test_song = get_songs(\"./chordgan/Classical_Music_Midi/bach\")\n",
    "test_chromaz = get_chromas(test_song)\n",
    "print (\"{} songs processed\".format(len(test_song)))\n",
    "print (\"{} songs processed\".format(len(test_chromaz)))"
   ]
  },
  {
   "cell_type": "code",
   "execution_count": 37,
   "metadata": {
    "id": "g-lb4wigiXTm"
   },
   "outputs": [],
   "source": [
    "#converted midi file folder\n",
    "if not os.path.exists('converted/'):\n",
    "    os.makedirs('converted/')"
   ]
  },
  {
   "cell_type": "code",
   "execution_count": 38,
   "metadata": {
    "id": "R1yURaYKEj14"
   },
   "outputs": [],
   "source": [
    "i = 0\n",
    "S_cutoff = 0.5\n",
    "\n",
    "for c in test_chromaz:\n",
    "    test_chroma = np.array(c)\n",
    "    \n",
    "\n",
    "    test_chroma = test_chroma[:np.floor(test_chroma.shape[0]/num_timesteps).astype(int)*num_timesteps]\n",
    "    test_chroma = np.reshape(test_chroma, [int(test_chroma.shape[0]/num_timesteps), test_chroma.shape[1]*num_timesteps])\n",
    "    #chroma = np.reshape(chroma, [song_steps, chroma.shape[1]*num_timesteps])\n",
    "       \n",
    "    out_samples = sess.run(G_sample, feed_dict={Z: test_chroma})\n",
    "    #print(np.shape(test_chroma),np.shape(samples))\n",
    "    \n",
    "    #print(np.floor(samples.shape[0]*samples.shape[1]/2/note_range).astype(int))\n",
    "    \n",
    "    S = np.reshape(out_samples, (np.floor(out_samples.shape[0]*out_samples.shape[1]/2/note_range).astype(int), 2*note_range))\n",
    "    C = np.reshape(test_chroma, (test_chroma.shape[0]*num_timesteps, 12))\n",
    "    #print(np.shape(S), np.shape(C))\n",
    "    thresh_S = S>=S_cutoff\n",
    "    thresh_S = np.transpose(thresh_S)\n",
    "\n",
    "\n",
    "    \n",
    "    # plt.figure(figsize=(30,18))\n",
    "    # plt.subplot(1,2,1)\n",
    "    # plt.imshow(S)\n",
    "    # plt.subplot(1,2,2)\n",
    "    # plt.imshow(C)\n",
    "    # #plt.tight_layout()\n",
    "    # plt.pause(0.1)\n",
    "\n",
    "\n",
    "    test = reverse_pianoroll.piano_roll_to_pretty_midi(convert.back(thresh_S), fs=16)\n",
    "    test.write('converted/{}.mid'.format(i))\n",
    "\n",
    "    # midi_manipulation.noteStateMatrixToMidi(thresh_S, \"new/generated_chord_{}\".format(i))\n",
    "    # i+=1  "
   ]
  },
  {
   "cell_type": "markdown",
   "metadata": {},
   "source": [
    "##### Question 6 [10 points]\n",
    "Open the conversion results in a musical MIDI software (such as Musescore) and observe/listen to the results. Write down your impressions about the quality of the musical texture style transfer - did the harmonic structure follow the Bach input? How did the notes distribution (choice of pitches and durations) change relative to the original Bach piece? Does the S_cutoff parameter affect the outcome, and if so, how? \n",
    "\n",
    "Summarize your findings and suggest some conclusions. Can you point to any musical aspects that were poorly modeled and ideas of improvement? "
   ]
  },
  {
   "cell_type": "markdown",
   "metadata": {},
   "source": [
    "``` your response here ```"
   ]
  },
  {
   "cell_type": "markdown",
   "metadata": {},
   "source": [
    "# 5. Further experiments"
   ]
  },
  {
   "cell_type": "markdown",
   "metadata": {},
   "source": [
    "##### Question 7 & 8: [total 40 points]\n",
    "\n",
    "Choose two of the experiments and report their results:\n",
    "\n",
    "1. Explore style transfer between more distant styles: For this purpose you may use the Pop_Music_Midi dataset and repeat the Style Transfer Experiment between Classical and Pop music (and vice versa). Report your findings in qualitative ways and submit the midi results together with your explanation. [20 Points]\n",
    "\n",
    "2. Expermment with L1 distance: retrain the GAN model with very small and very large Lambda. What are the effects of such changes? When is the texture of the output more or less musical? Are the harmonic progressions of the input followed or ignored? Any other observations? [20 Points]\n",
    "\n",
    "3. Create your own song: use the leadsheet2chroma.py file provided to create a Mozart style composition from your own leadsheet input. Provide the leadsheet in text format and the midi file results. Report your observations about the musical quality of the results. You may alter the leadsheet2chroma.py to fit other chords if you wish, or train GAN in a style different then Mozart. [20 Points]\n",
    "\n"
   ]
  }
 ],
 "metadata": {
  "colab": {
   "name": "GANMIDItest.ipynb",
   "provenance": [],
   "toc_visible": true
  },
  "kernelspec": {
   "display_name": "Python 3 (ipykernel)",
   "language": "python",
   "name": "python3"
  },
  "language_info": {
   "codemirror_mode": {
    "name": "ipython",
    "version": 3
   },
   "file_extension": ".py",
   "mimetype": "text/x-python",
   "name": "python",
   "nbconvert_exporter": "python",
   "pygments_lexer": "ipython3",
   "version": "3.7.11"
  }
 },
 "nbformat": 4,
 "nbformat_minor": 1
}
